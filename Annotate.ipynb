{
 "cells": [
  {
   "cell_type": "markdown",
   "metadata": {},
   "source": [
    "\n",
    "# Annotate documents for named entity recognition\n",
    "\n",
    "Select the document to tag and the output folder to save the annotations to.\n"
   ]
  },
  {
   "cell_type": "code",
   "execution_count": 1,
   "metadata": {
    "scrolled": false
   },
   "outputs": [
    {
     "name": "stdout",
     "output_type": "stream",
     "text": [
      "Document to tag (.txt file):\n"
     ]
    },
    {
     "data": {
      "application/vnd.jupyter.widget-view+json": {
       "model_id": "85e2c5ca3cae40ddbf7a188640314c81",
       "version_major": 2,
       "version_minor": 0
      },
      "text/plain": [
       "FileChooser(path='/home/abertsch/projects/ner-annotator', filename='', title='HTML(value='', layout=Layout(dis…"
      ]
     },
     "metadata": {},
     "output_type": "display_data"
    },
    {
     "name": "stdout",
     "output_type": "stream",
     "text": [
      "Output folder to save annotations to:\n"
     ]
    },
    {
     "data": {
      "application/vnd.jupyter.widget-view+json": {
       "model_id": "e8853bb0d92749fbb6892b2a6d9b0c82",
       "version_major": 2,
       "version_minor": 0
      },
      "text/plain": [
       "FileChooser(path='/home/abertsch/projects/ner-annotator', filename='', title='HTML(value='', layout=Layout(dis…"
      ]
     },
     "metadata": {},
     "output_type": "display_data"
    }
   ],
   "source": [
    "from src.notebook.file_chooser import choose\n",
    "choose()"
   ]
  },
  {
   "cell_type": "markdown",
   "metadata": {},
   "source": [
    "Now run the cell below to annotate the document! You can type a number (+enter) to label an entity, or just press enter to skip any words that are not entities."
   ]
  },
  {
   "cell_type": "code",
   "execution_count": 2,
   "metadata": {
    "scrolled": true
   },
   "outputs": [
    {
     "name": "stdout",
     "output_type": "stream",
     "text": [
      "Progress: [====      ] - 41% of 12 tokens\n",
      "TAG OPTIONS: (press enter to leave untagged, b to go back, p to save progress and exit)\n",
      "0 people, including fictional\t\t4 companies, institutions, etc.\n",
      "1 nationalities, religions\t\t5 countries, cities, states\n",
      "2 mountains, rivers, etc.\t\t6 events--named hurricanes, etc\n",
      "3 buildings, airports, etc.\t\t7 measurements (e.g. weight, distance)\n",
      "new \"york\" city, germany, and  <<the>>  best place to live in\n",
      "\tTAG? p\n",
      "The annotation progress so far has been saved. To continue annotating this document, simply select the document as the input document again. The program will ask if you want to use this set of annotations\n",
      "\n",
      "The document has been annotated! Check the output folder to see the annotations saved as files prefixed with \"test\"\n"
     ]
    }
   ],
   "source": [
    "from src.annotate import setup_doc, takedown, get_tag, not_done\n",
    "from IPython.display import clear_output\n",
    "    \n",
    "setup_doc()\n",
    "\n",
    "while(not_done()):    \n",
    "    clear_output(wait=True)\n",
    "    get_tag()\n",
    "    \n",
    "takedown()"
   ]
  },
  {
   "cell_type": "code",
   "execution_count": null,
   "metadata": {},
   "outputs": [],
   "source": []
  },
  {
   "cell_type": "code",
   "execution_count": null,
   "metadata": {},
   "outputs": [],
   "source": []
  }
 ],
 "metadata": {
  "kernelspec": {
   "display_name": "Python 3",
   "language": "python",
   "name": "python3"
  },
  "language_info": {
   "codemirror_mode": {
    "name": "ipython",
    "version": 3
   },
   "file_extension": ".py",
   "mimetype": "text/x-python",
   "name": "python",
   "nbconvert_exporter": "python",
   "pygments_lexer": "ipython3",
   "version": "3.9.1"
  }
 },
 "nbformat": 4,
 "nbformat_minor": 4
}
